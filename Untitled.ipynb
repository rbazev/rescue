{
 "cells": [
  {
   "cell_type": "markdown",
   "id": "ad3a4e10-de64-486f-ba1f-ac0b966dcef7",
   "metadata": {},
   "source": [
    "# Evolutionary rescue"
   ]
  },
  {
   "cell_type": "code",
   "execution_count": 2,
   "id": "db404671-65db-44cd-be50-47ad6ed751d4",
   "metadata": {},
   "outputs": [],
   "source": [
    "run rescue_theory.py"
   ]
  },
  {
   "cell_type": "code",
   "execution_count": null,
   "id": "3e46d986-708e-475f-bab3-3d290e99f7ca",
   "metadata": {},
   "outputs": [],
   "source": []
  }
 ],
 "metadata": {
  "kernelspec": {
   "display_name": "Python 3",
   "language": "python",
   "name": "python3"
  },
  "language_info": {
   "codemirror_mode": {
    "name": "ipython",
    "version": 3
   },
   "file_extension": ".py",
   "mimetype": "text/x-python",
   "name": "python",
   "nbconvert_exporter": "python",
   "pygments_lexer": "ipython3",
   "version": "3.7.10"
  }
 },
 "nbformat": 4,
 "nbformat_minor": 5
}
