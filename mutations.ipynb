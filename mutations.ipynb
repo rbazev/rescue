{
 "cells": [
  {
   "cell_type": "markdown",
   "id": "4e9c2697-9bb5-4976-8f5b-2a759813a311",
   "metadata": {},
   "source": [
    "# Beneficial mutations\n",
    "\n",
    "## Expected number of beneficial mutations\n",
    "\n",
    "Calculations at the end of section 4.1.\n",
    "\n",
    "With the parameters used in Figures 2A and 2B $(W_0 = 10^4, r = 0.01, u = 10^{−5})$"
   ]
  },
  {
   "cell_type": "code",
   "execution_count": 1,
   "id": "07c723fb-8d50-4235-a692-52485159ee0a",
   "metadata": {},
   "outputs": [],
   "source": [
    "run rescue_theory"
   ]
  },
  {
   "cell_type": "code",
   "execution_count": 3,
   "id": "63b2f89a-7dfb-43b0-89a5-49e8bf88cb37",
   "metadata": {},
   "outputs": [],
   "source": [
    "import matplotlib.pyplot as plt\n",
    "import seaborn as sns"
   ]
  },
  {
   "cell_type": "code",
   "execution_count": 4,
   "id": "53974172-315d-4f49-9dbb-49a7bedda7de",
   "metadata": {},
   "outputs": [],
   "source": [
    "sns.set()\n",
    "sns.set_style('ticks')\n",
    "sns.set_context('poster')"
   ]
  },
  {
   "cell_type": "code",
   "execution_count": 5,
   "id": "23d2bc77-2aba-4b4e-a9cf-59e487770078",
   "metadata": {},
   "outputs": [
    {
     "data": {
      "text/plain": [
       "9.890208693393525"
      ]
     },
     "execution_count": 5,
     "metadata": {},
     "output_type": "execute_result"
    }
   ],
   "source": [
    "W0 = 10000\n",
    "r = 0.01\n",
    "u = 1e-5\n",
    "K(W0, r, u)"
   ]
  },
  {
   "cell_type": "markdown",
   "id": "516e0f78-29d7-479e-9e63-c6b5b310b297",
   "metadata": {},
   "source": [
    "The corresponding number for Figures 2C and 2D $(W_0 = 10^4, r = 0.01, u = 10^{−4})$ is"
   ]
  },
  {
   "cell_type": "code",
   "execution_count": 6,
   "id": "11398b41-c7c3-4fe1-89e3-6ebdd0a1c4d6",
   "metadata": {},
   "outputs": [
    {
     "data": {
      "text/plain": [
       "98.02950787206684"
      ]
     },
     "execution_count": 6,
     "metadata": {},
     "output_type": "execute_result"
    }
   ],
   "source": [
    "u = 1e-4\n",
    "K(W0, r, u)"
   ]
  },
  {
   "cell_type": "markdown",
   "id": "64429180-a7ad-48da-bee4-809a99cf5f4b",
   "metadata": {},
   "source": [
    "These numbers of mutations include mutations that occur in populations that ultimately go extinct and mutations that occur in rescued populations but disappear and do not contribute to the rescue.\n",
    "\n",
    "## Expected number of rescuing mutations\n",
    "\n",
    "Calculations at the end of section 5.3.\n",
    "\n",
    "With the parameters used in Figure 2A $(W_0 = 10^4, r = 0.01, s = 0.02, u = 10^{−5})$"
   ]
  },
  {
   "cell_type": "code",
   "execution_count": 7,
   "id": "98941221-002f-44ef-b460-128b946eda32",
   "metadata": {},
   "outputs": [
    {
     "data": {
      "text/plain": [
       "1.099663503237849"
      ]
     },
     "execution_count": 7,
     "metadata": {},
     "output_type": "execute_result"
    }
   ],
   "source": [
    "s = 0.02\n",
    "u = 1e-5\n",
    "KS(W0, r, s, u, 100)"
   ]
  },
  {
   "cell_type": "markdown",
   "id": "e1c3999d-5afe-48bb-9e25-820abf2aae46",
   "metadata": {},
   "source": [
    "The corresponding number for Figures 2B $(W_0 = 10^4, r = 0.01, s = 0.1, u = 10^{−5})$ is"
   ]
  },
  {
   "cell_type": "code",
   "execution_count": 8,
   "id": "4cd86985-2a38-4e75-9603-9806c5cac2f5",
   "metadata": {},
   "outputs": [
    {
     "data": {
      "text/plain": [
       "1.9897086992355932"
      ]
     },
     "execution_count": 8,
     "metadata": {},
     "output_type": "execute_result"
    }
   ],
   "source": [
    "s = 0.1\n",
    "KS(W0, r, s, u, 100)"
   ]
  },
  {
   "cell_type": "markdown",
   "id": "938613a4-3a20-4f2c-91de-d0029dfacd28",
   "metadata": {},
   "source": [
    "The corresponding number for Figure 2C $(W_0 = 10^4, r = 0.01, s = 0.02, u = 10^{−4})$ is"
   ]
  },
  {
   "cell_type": "code",
   "execution_count": 9,
   "id": "37f466e5-143b-4112-a251-a4f03f272e45",
   "metadata": {},
   "outputs": [
    {
     "data": {
      "text/plain": [
       "2.2383652403509138"
      ]
     },
     "execution_count": 9,
     "metadata": {},
     "output_type": "execute_result"
    }
   ],
   "source": [
    "s = 0.02\n",
    "u = 1e-4\n",
    "KS(W0, r, s, u, 100)"
   ]
  },
  {
   "cell_type": "markdown",
   "id": "9dceee9e-b055-44eb-86df-23774d706d6d",
   "metadata": {},
   "source": [
    "The corresponding number for Figure 2D $(W_0 = 10^4, r = 0.01, s = 0.1, u = 10^{−4})$ is"
   ]
  },
  {
   "cell_type": "code",
   "execution_count": 10,
   "id": "e1910abe-9fbc-4322-8f8f-4ea4502e1b12",
   "metadata": {},
   "outputs": [
    {
     "data": {
      "text/plain": [
       "15.574325417812505"
      ]
     },
     "execution_count": 10,
     "metadata": {},
     "output_type": "execute_result"
    }
   ],
   "source": [
    "s = 0.1\n",
    "KS(W0, r, s, u, 100)"
   ]
  },
  {
   "cell_type": "markdown",
   "id": "a0537dd6-25e5-4871-bdfa-fd54031f43ed",
   "metadata": {},
   "source": [
    "## Waiting time for the first rescuing mutation\n",
    "\n",
    "Code to generate Figure 3 showing the effect of different parameters on the probability of rescue from new mutations, $P_\\mathrm{new}(\\mathcal R)$.\n",
    "\n",
    "Illustrated for the case of Figure 1D with parameters: $W_0=10^4, B_0=0, r = 0.09, s = 0.1,$ and a range of values of $u$.\n",
    "\n",
    "### Exact probabilities"
   ]
  },
  {
   "cell_type": "code",
   "execution_count": 44,
   "id": "47a8f140-73eb-4e06-9466-3682424d632a",
   "metadata": {},
   "outputs": [],
   "source": [
    "s = 0.1\n",
    "u = 1e-4\n",
    "pp = []\n",
    "p0 = 1\n",
    "x = np.arange(1, 61)\n",
    "for i in x:\n",
    "    p1 = prob_time(W0, r, s, u, i, 100)\n",
    "    pp.append(p0-p1)\n",
    "    p0 = p1"
   ]
  },
  {
   "cell_type": "markdown",
   "id": "d3ad40ac-5457-4ded-980d-a7deae3c13e0",
   "metadata": {},
   "source": [
    "### Stochastic simulations"
   ]
  },
  {
   "cell_type": "code",
   "execution_count": 2,
   "id": "30a62a31-ba31-424c-ab72-0c0898d8def9",
   "metadata": {},
   "outputs": [],
   "source": [
    "run rescue_mutation_simulations"
   ]
  },
  {
   "cell_type": "code",
   "execution_count": 15,
   "id": "2bfa1995-1f83-48d2-a2be-61b46f1b13f5",
   "metadata": {},
   "outputs": [
    {
     "name": "stdout",
     "output_type": "stream",
     "text": [
      "CPU times: user 7min 4s, sys: 3.07 s, total: 7min 7s\n",
      "Wall time: 7min 11s\n"
     ]
    }
   ],
   "source": [
    "%%time\n",
    "s = 0.1\n",
    "u = 1e-4\n",
    "tt = []\n",
    "for i in range(10000):\n",
    "    outcome = 'extinct'\n",
    "    while outcome == 'extinct':\n",
    "        outcome, t, w, b, z, t0, t1, ks, ts, pop = evolve(W0, 0, r, s, u, 2*W0)\n",
    "    tt.append(min(ts))\n",
    "tt = np.array(tt)\n",
    "tthist = np.histogram(tt, bins=np.arange(.5, max(tt) + .6, 1), density=True)[0]"
   ]
  },
  {
   "cell_type": "code",
   "execution_count": 43,
   "id": "7171108a-f52f-4a2a-a49e-7411057e288b",
   "metadata": {},
   "outputs": [
    {
     "data": {
      "image/png": "[encoded data removed]",
      "text/plain": [
       "<Figure size 576x504 with 1 Axes>"
      ]
     },
     "metadata": {},
     "output_type": "display_data"
    }
   ],
   "source": [
    "fig = plt.figure(figsize=(8, 7))\n",
    "plt.xlim(-2, 62)\n",
    "plt.xlabel('Waiting time (generations)')\n",
    "plt.ylabel('Probability')\n",
    "for j in x:\n",
    "    plt.plot([j, j], [0, tthist[j-1]], '-', color='0.7', lw=6.5, solid_capstyle='butt')\n",
    "plt.plot(x, pp, lw=4, color=sns.xkcd_rgb['vermillion'])\n",
    "plt.yticks(np.arange(0, .151, .05));"
   ]
  }
 ],
 "metadata": {
  "kernelspec": {
   "display_name": "Python 3",
   "language": "python",
   "name": "python3"
  },
  "language_info": {
   "codemirror_mode": {
    "name": "ipython",
    "version": 3
   },
   "file_extension": ".py",
   "mimetype": "text/x-python",
   "name": "python",
   "nbconvert_exporter": "python",
   "pygments_lexer": "ipython3",
   "version": "3.7.10"
  }
 },
 "nbformat": 4,
 "nbformat_minor": 5
}
