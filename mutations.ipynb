{
 "cells": [
  {
   "cell_type": "markdown",
   "id": "4e9c2697-9bb5-4976-8f5b-2a759813a311",
   "metadata": {},
   "source": [
    "# Beneficial mutations\n",
    "\n",
    "## Expected number of beneficial mutations\n",
    "\n",
    "Calculations at the end of section 4.1.\n",
    "\n",
    "With the parameters used in Figures 2A and 2B $(W_0 = 10^4, r = 0.01, u = 10^{−5})$"
   ]
  },
  {
   "cell_type": "code",
   "execution_count": 1,
   "id": "07c723fb-8d50-4235-a692-52485159ee0a",
   "metadata": {},
   "outputs": [],
   "source": [
    "run rescue_theory.py"
   ]
  },
  {
   "cell_type": "code",
   "execution_count": 17,
   "id": "23d2bc77-2aba-4b4e-a9cf-59e487770078",
   "metadata": {},
   "outputs": [
    {
     "data": {
      "text/plain": [
       "9.890208693393525"
      ]
     },
     "execution_count": 17,
     "metadata": {},
     "output_type": "execute_result"
    }
   ],
   "source": [
    "W0 = 1e4\n",
    "r = 0.01\n",
    "u = 1e-5\n",
    "K(W0, r, u)"
   ]
  },
  {
   "cell_type": "markdown",
   "id": "516e0f78-29d7-479e-9e63-c6b5b310b297",
   "metadata": {},
   "source": [
    "The corresponding number for Figures 2C and 2D $(W0 = 10^4, r = 0.01, u = 10^{−4})$ is"
   ]
  },
  {
   "cell_type": "code",
   "execution_count": 18,
   "id": "11398b41-c7c3-4fe1-89e3-6ebdd0a1c4d6",
   "metadata": {},
   "outputs": [
    {
     "data": {
      "text/plain": [
       "98.02950787206684"
      ]
     },
     "execution_count": 18,
     "metadata": {},
     "output_type": "execute_result"
    }
   ],
   "source": [
    "u = 1e-4\n",
    "K(W0, r, u)"
   ]
  },
  {
   "cell_type": "markdown",
   "id": "64429180-a7ad-48da-bee4-809a99cf5f4b",
   "metadata": {},
   "source": [
    "These numbers of mutations include mutations that occur in populations that ultimately go extinct and mutations that occur in rescued populations but disappear and do not contribute to the rescue.\n",
    "\n",
    "## Expected number of rescuing mutations\n",
    "\n",
    "Calculations at the end of section 5.3.\n",
    "\n",
    "With the parameters used in Figure 2A $(W_0 = 10^4, r = 0.01, s = 0.02, u = 10^{−5})$"
   ]
  },
  {
   "cell_type": "code",
   "execution_count": 19,
   "id": "98941221-002f-44ef-b460-128b946eda32",
   "metadata": {},
   "outputs": [
    {
     "data": {
      "text/plain": [
       "1.099663503237849"
      ]
     },
     "execution_count": 19,
     "metadata": {},
     "output_type": "execute_result"
    }
   ],
   "source": [
    "s = 0.02\n",
    "u = 1e-5\n",
    "KS(W0, r, s, u, 100)"
   ]
  },
  {
   "cell_type": "markdown",
   "id": "e1c3999d-5afe-48bb-9e25-820abf2aae46",
   "metadata": {},
   "source": [
    "The corresponding number for Figures 2B $(W0 = 10^4, r = 0.01, s = 0.1, u = 10^{−5})$ is"
   ]
  },
  {
   "cell_type": "code",
   "execution_count": 20,
   "id": "4cd86985-2a38-4e75-9603-9806c5cac2f5",
   "metadata": {},
   "outputs": [
    {
     "data": {
      "text/plain": [
       "1.9897086992355932"
      ]
     },
     "execution_count": 20,
     "metadata": {},
     "output_type": "execute_result"
    }
   ],
   "source": [
    "s = 0.1\n",
    "KS(W0, r, s, u, 100)"
   ]
  },
  {
   "cell_type": "markdown",
   "id": "938613a4-3a20-4f2c-91de-d0029dfacd28",
   "metadata": {},
   "source": [
    "The corresponding number for Figure 2C $(W0 = 10^4, r = 0.01, s = 0.02, u = 10^{−4})$ is"
   ]
  },
  {
   "cell_type": "code",
   "execution_count": 21,
   "id": "37f466e5-143b-4112-a251-a4f03f272e45",
   "metadata": {},
   "outputs": [
    {
     "data": {
      "text/plain": [
       "2.2383652403509138"
      ]
     },
     "execution_count": 21,
     "metadata": {},
     "output_type": "execute_result"
    }
   ],
   "source": [
    "s = 0.02\n",
    "u = 1e-4\n",
    "KS(W0, r, s, u, 100)"
   ]
  },
  {
   "cell_type": "markdown",
   "id": "9dceee9e-b055-44eb-86df-23774d706d6d",
   "metadata": {},
   "source": [
    "The corresponding number for Figure 2D $(W0 = 10^4, r = 0.01, s = 0.1, u = 10^{−4})$ is"
   ]
  },
  {
   "cell_type": "code",
   "execution_count": 22,
   "id": "e1910abe-9fbc-4322-8f8f-4ea4502e1b12",
   "metadata": {},
   "outputs": [
    {
     "data": {
      "text/plain": [
       "15.574325417812505"
      ]
     },
     "execution_count": 22,
     "metadata": {},
     "output_type": "execute_result"
    }
   ],
   "source": [
    "s = 0.1\n",
    "KS(W0, r, s, u, 100)"
   ]
  },
  {
   "cell_type": "code",
   "execution_count": null,
   "id": "2bfa1995-1f83-48d2-a2be-61b46f1b13f5",
   "metadata": {},
   "outputs": [],
   "source": []
  }
 ],
 "metadata": {
  "kernelspec": {
   "display_name": "Python 3",
   "language": "python",
   "name": "python3"
  },
  "language_info": {
   "codemirror_mode": {
    "name": "ipython",
    "version": 3
   },
   "file_extension": ".py",
   "mimetype": "text/x-python",
   "name": "python",
   "nbconvert_exporter": "python",
   "pygments_lexer": "ipython3",
   "version": "3.7.10"
  }
 },
 "nbformat": 4,
 "nbformat_minor": 5
}
