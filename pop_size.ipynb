{
 "cells": [
  {
   "cell_type": "markdown",
   "id": "cb911f4f-3a26-4fad-8a80-ea1f5eaae328",
   "metadata": {},
   "source": [
    "# Population size\n",
    "\n",
    "Code to generate Figure 2 showing the effect of different parameters on the population size of rescued populations."
   ]
  },
  {
   "cell_type": "code",
   "execution_count": 9,
   "id": "b0c39b66-c4a2-4a40-8d17-75f9a6fdba93",
   "metadata": {},
   "outputs": [],
   "source": [
    "run rescue_theory.py"
   ]
  },
  {
   "cell_type": "code",
   "execution_count": 3,
   "id": "82f64d6f-42ed-4bec-9a8d-57cc9df41272",
   "metadata": {},
   "outputs": [
    {
     "data": {
      "text/plain": [
       "array([[9.8901e-01, 9.9000e-04],\n",
       "       [0.0000e+00, 1.0098e+00]])"
      ]
     },
     "execution_count": 3,
     "metadata": {},
     "output_type": "execute_result"
    }
   ],
   "source": [
    "m = M(.01, .02, .001)\n",
    "m"
   ]
  },
  {
   "cell_type": "code",
   "execution_count": 6,
   "id": "5f5f570f-68e1-4218-b2fa-4cd636179c33",
   "metadata": {},
   "outputs": [
    {
     "data": {
      "text/plain": [
       "array([[0.97814078, 0.00197882],\n",
       "       [0.        , 1.01969604]])"
      ]
     },
     "execution_count": 6,
     "metadata": {},
     "output_type": "execute_result"
    }
   ],
   "source": [
    "m2 = np.dot(m, m)\n",
    "m2"
   ]
  },
  {
   "cell_type": "code",
   "execution_count": 7,
   "id": "0d5b1a95-c3a8-4a2f-9778-c5766b59a786",
   "metadata": {},
   "outputs": [
    {
     "data": {
      "text/plain": [
       "array([[0.96739101, 0.00296657],\n",
       "       [0.        , 1.02968906]])"
      ]
     },
     "execution_count": 7,
     "metadata": {},
     "output_type": "execute_result"
    }
   ],
   "source": [
    "m3 = np.dot(m2, m)\n",
    "m3"
   ]
  },
  {
   "cell_type": "code",
   "execution_count": 8,
   "id": "7dba1f5f-4c1d-4997-923c-2871ba01feab",
   "metadata": {},
   "outputs": [
    {
     "data": {
      "text/plain": [
       "array([[0.96739101, 0.00296657],\n",
       "       [0.        , 1.02968906]])"
      ]
     },
     "execution_count": 8,
     "metadata": {},
     "output_type": "execute_result"
    }
   ],
   "source": [
    "Mn(.01, .02, .001, 3)"
   ]
  },
  {
   "cell_type": "code",
   "execution_count": 12,
   "id": "401d458f-b2e6-4cb6-a1af-7593af071042",
   "metadata": {},
   "outputs": [
    {
     "data": {
      "text/plain": [
       "14707425647.46274"
      ]
     },
     "execution_count": 12,
     "metadata": {},
     "output_type": "execute_result"
    }
   ],
   "source": [
    "Zn(10000, 0, .01, .02, .0001, 2000)"
   ]
  },
  {
   "cell_type": "code",
   "execution_count": null,
   "id": "9d47d6e6-ecc5-4cba-b687-62b91490ee1a",
   "metadata": {},
   "outputs": [],
   "source": []
  }
 ],
 "metadata": {
  "kernelspec": {
   "display_name": "Python 3",
   "language": "python",
   "name": "python3"
  },
  "language_info": {
   "codemirror_mode": {
    "name": "ipython",
    "version": 3
   },
   "file_extension": ".py",
   "mimetype": "text/x-python",
   "name": "python",
   "nbconvert_exporter": "python",
   "pygments_lexer": "ipython3",
   "version": "3.7.10"
  }
 },
 "nbformat": 4,
 "nbformat_minor": 5
}
